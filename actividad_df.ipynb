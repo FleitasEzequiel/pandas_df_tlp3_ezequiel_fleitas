{
 "cells": [
  {
   "cell_type": "markdown",
   "id": "12ad2501",
   "metadata": {},
   "source": [
    "# Actividad - Trabajando con DataFrames de Pandas.\n",
    "## Criterios de evaluación.\n",
    "\n",
    "* Se deben utilizar nombres de variables descriptivos y claros (Utilizar la nomeclatura correspondiente para los nombres de variables).\n",
    "* Comentarios claros y concisos que expliquen el propósito de cada sección del código.\n",
    "* Utilizar mensajes de commit **descriptivos**. (Puedes utilizar la extension CONVENTIONAL COMMIT de VS-CODE). \n",
    "* Entrega en tiempo y forma.\n",
    "* Todo el código desarrollado debe ser subido a un repositorio en GitHub (el nombre del repositorio de seguir la siguiente estructura: pandas_df_tlp3_nombre_apellido).\n",
    "* Para resolver las actividades se debe insertar casillas de codigo entre cada actividad del cuaderno de Jupyter\n",
    "* Deben trabajar con el datasets adjunto a la actividad\n",
    "\n",
    "### ¡Importante!\n",
    "**El incumplimiento de los criterios de evaluación restará puntos en la nota final del práctico!**"
   ]
  },
  {
   "cell_type": "code",
   "execution_count": 120,
   "id": "afc60e66",
   "metadata": {},
   "outputs": [],
   "source": [
    "import pandas as pd\n",
    "import sqlite3\n",
    "\n",
    "#Aqui agrega la conexión a la base de datos\n",
    "conexion = sqlite3.connect(\"Salaries.sqlite\")\n",
    "#Crea el dataframe con los datos del datasets\n",
    "df = pd.read_sql_query(\"SELECT * FROM salaries\",conexion)"
   ]
  },
  {
   "cell_type": "markdown",
   "id": "b993b225",
   "metadata": {},
   "source": [
    "1. **Top 10 empleados con mayor salario total (incluyendo beneficios)**\n",
    "Extrae e imprime un top 10 de expleados con mayor salario incluyendo los beneficios \n"
   ]
  },
  {
   "cell_type": "code",
   "execution_count": 121,
   "id": "135f2471",
   "metadata": {},
   "outputs": [],
   "source": [
    "##Se busca las columnas \"TotalPayBenefits\" y \"EmployeeName\",se ordenan los valores por el TotalPayBenefits de manera descendente y se toma los 10 primeros resultados\n",
    "biggestPayEmployees = df[[\"TotalPayBenefits\",\"EmployeeName\"]].sort_values(by=\"TotalPayBenefits\",ascending=False).head(10)"
   ]
  },
  {
   "cell_type": "markdown",
   "id": "fd03ce6c",
   "metadata": {},
   "source": [
    "2. **Filtrar empleados con más de 50,000 en horas extra, la columna a tratar es: (OvertimePay)**"
   ]
  },
  {
   "cell_type": "code",
   "execution_count": 122,
   "id": "c5dc65c7",
   "metadata": {},
   "outputs": [
    {
     "name": "stdout",
     "output_type": "stream",
     "text": [
      "    Id       EmployeeName                                          JobTitle  \\\n",
      "1    2       GARY JIMENEZ                   CAPTAIN III (POLICE DEPARTMENT)   \n",
      "2    3     ALBERT PARDINI                   CAPTAIN III (POLICE DEPARTMENT)   \n",
      "3    4  CHRISTOPHER CHONG              WIRE ROPE CABLE MAINTENANCE MECHANIC   \n",
      "6    7          ALSON LEE                BATTALION CHIEF, (FIRE DEPARTMENT)   \n",
      "8    9     MICHAEL MORRIS                BATTALION CHIEF, (FIRE DEPARTMENT)   \n",
      "10  11      ARTHUR KENNEY  ASSISTANT CHIEF OF DEPARTMENT, (FIRE DEPARTMENT)   \n",
      "11  12   PATRICIA JACKSON                   CAPTAIN III (POLICE DEPARTMENT)   \n",
      "14  15     DAVID FRANKLIN                BATTALION CHIEF, (FIRE DEPARTMENT)   \n",
      "15  16    RICHARD CORRIEA                COMMANDER III, (POLICE DEPARTMENT)   \n",
      "17  18     SEBASTIAN WONG             CAPTAIN, EMERGENCYCY MEDICAL SERVICES   \n",
      "\n",
      "      BasePay  OvertimePay   OtherPay Benefits   TotalPay  TotalPayBenefits  \\\n",
      "1   155966.02    245131.88  137811.38     None  538909.28         538909.28   \n",
      "2   212739.13    106088.18    16452.6     None  335279.91         335279.91   \n",
      "3     77916.0     56120.71   198306.9     None  332343.61         332343.61   \n",
      "6    92492.01     89062.90  134426.14     None  315981.05         315981.05   \n",
      "8   176932.64     86362.68   40132.23     None  303427.55         303427.55   \n",
      "10  194999.39     71344.88    33149.9     None  299494.17         299494.17   \n",
      "11    99722.0     87082.62   110804.3     None  297608.92         297608.92   \n",
      "14  174872.64     74050.30   37424.11     None  286347.05         286347.05   \n",
      "15  198778.01     73478.20   13957.65     None  286213.86         286213.86   \n",
      "17  140546.87    119397.26   18625.08     None  278569.21         278569.21   \n",
      "\n",
      "    Year Notes         Agency Status  \n",
      "1   2011  None  San Francisco   None  \n",
      "2   2011  None  San Francisco   None  \n",
      "3   2011  None  San Francisco   None  \n",
      "6   2011  None  San Francisco   None  \n",
      "8   2011  None  San Francisco   None  \n",
      "10  2011  None  San Francisco   None  \n",
      "11  2011  None  San Francisco   None  \n",
      "14  2011  None  San Francisco   None  \n",
      "15  2011  None  San Francisco   None  \n",
      "17  2011  None  San Francisco   None  \n"
     ]
    }
   ],
   "source": [
    "##Se convierte la columna OvertimePay en un tipo númerico para realizar una comparación aritmetica\n",
    "df.OvertimePay = pd.to_numeric(df['OvertimePay'], errors='coerce')\n",
    "\n",
    "##Se filtra por aquellos que tengan más de \n",
    "overtimeEmployees = df[df[\"OvertimePay\"] > 50000]\n",
    "print(overtimeEmployees.head(10))\n"
   ]
  },
  {
   "cell_type": "markdown",
   "id": "518b4eab",
   "metadata": {},
   "source": [
    "3. **Contar cuántos empleados únicos hay por año**"
   ]
  },
  {
   "cell_type": "code",
   "execution_count": null,
   "id": "e35c5908",
   "metadata": {},
   "outputs": [
    {
     "data": {
      "text/plain": [
       "Year\n",
       "2011    33878\n",
       "2012    34349\n",
       "2013    36150\n",
       "2014    36684\n",
       "Name: EmployeeName, dtype: int64"
      ]
     },
     "execution_count": 142,
     "metadata": {},
     "output_type": "execute_result"
    }
   ],
   "source": [
    "#Se agrupa el dataframe por año y se cuenta la cantidad de nombres de empleados únicos que hay por cada año.\n",
    "df.groupby(by=\"Year\")['EmployeeName'].nunique()"
   ]
  },
  {
   "cell_type": "markdown",
   "id": "9105e992",
   "metadata": {},
   "source": [
    "4. **Ver cuántos cargos únicos (JobTitle) existen y los 5 más comunes**"
   ]
  },
  {
   "cell_type": "code",
   "execution_count": 123,
   "id": "e388d537",
   "metadata": {},
   "outputs": [],
   "source": [
    "#todo"
   ]
  },
  {
   "cell_type": "markdown",
   "id": "b34c7043",
   "metadata": {},
   "source": [
    "5. **Mostrar el salario total (TotalPay) promedio por año**"
   ]
  },
  {
   "cell_type": "code",
   "execution_count": 124,
   "id": "64d765f0",
   "metadata": {},
   "outputs": [],
   "source": [
    "#todo"
   ]
  },
  {
   "cell_type": "markdown",
   "id": "cd1d7071",
   "metadata": {},
   "source": [
    "6. **Exporta todos los datos a un CSV y muestra los ultimos 10 valores**"
   ]
  },
  {
   "cell_type": "code",
   "execution_count": 144,
   "id": "1f27e45c",
   "metadata": {},
   "outputs": [],
   "source": [
    "#Se utiliza la función .to_csv() y se le pasa la ubicación de dónde queremos que esté y el nombre para el archivo\n",
    "df.to_csv(\"./Salaries.csv\")"
   ]
  }
 ],
 "metadata": {
  "kernelspec": {
   "display_name": ".venv",
   "language": "python",
   "name": "python3"
  },
  "language_info": {
   "codemirror_mode": {
    "name": "ipython",
    "version": 3
   },
   "file_extension": ".py",
   "mimetype": "text/x-python",
   "name": "python",
   "nbconvert_exporter": "python",
   "pygments_lexer": "ipython3",
   "version": "3.13.2"
  }
 },
 "nbformat": 4,
 "nbformat_minor": 5
}
